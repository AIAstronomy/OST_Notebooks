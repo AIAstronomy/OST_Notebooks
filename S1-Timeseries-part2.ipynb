{
 "cells": [
  {
   "cell_type": "markdown",
   "metadata": {},
   "source": [
    "## Sentinel-1 large-scale time-series/timescan processing\n",
    "\n",
    "This note book is part 2 of the time-series/timescan creation. It requires that you already did the data inventory and download.\n",
    "\n",
    "Also note that the minimum requirements are 16GB of RAM as well as enough space for the end products.\n",
    "\n",
    "**The processing is split into 4 parts:**\n",
    "- **Step 1:** Creation of single Analysis-Ready-Data products\n",
    "- **Step 2:** Creation of time-series for each track\n",
    "- **Step 3:** Creation of time-series mosaics (optional, i.e. only in case of more than 1 track within the AOI)\n",
    "- **Step 4:** Creation of timescans (optional)"
   ]
  },
  {
   "cell_type": "markdown",
   "metadata": {},
   "source": [
    "### 1) import python libs"
   ]
  },
  {
   "cell_type": "code",
   "execution_count": null,
   "metadata": {},
   "outputs": [],
   "source": [
    "# standard libs\n",
    "import os, glob, shutil, datetime\n",
    "\n",
    "# ost libs\n",
    "from ost.s1 import refine, grd2Ard, ts, grdBatch\n",
    "from ost.helpers import raster as ras\n",
    "from ost.helpers import vector as vec"
   ]
  },
  {
   "cell_type": "markdown",
   "metadata": {},
   "source": [
    "### 2) re-define project structure \n",
    "\n",
    "Note that this should be in line with the directories defined in  part 1 of the time-series creation. In addition we need to define a temporary folder."
   ]
  },
  {
   "cell_type": "code",
   "execution_count": null,
   "metadata": {},
   "outputs": [],
   "source": [
    "# define a directory for storing temporary files during processing\n",
    "tmpDir = '/path/to/tmp'\n",
    "\n",
    "# the main project directory\n",
    "prjDir = '/Phi_avollrath_AddSpace/thuerGrd'\n",
    "\n",
    "# this is where we download the original scenes\n",
    "dwnDir = '{}/download'.format(prjDir)\n",
    "\n",
    "# this folder will be used for the inventory shape files\n",
    "invDir = '{}/inventory'.format(prjDir)\n",
    "\n",
    "# this folder will be used for the processed data\n",
    "prcDir = '{}/processed'.format(prjDir)\n",
    "\n"
   ]
  },
  {
   "cell_type": "markdown",
   "metadata": {},
   "source": [
    "### 3) define processing parameters"
   ]
  },
  {
   "cell_type": "code",
   "execution_count": null,
   "metadata": {},
   "outputs": [],
   "source": [
    "# shapefile or ISO 3 code AOI\n",
    "aoi = '/path/to/aoi'\n",
    "\n",
    "# processing parameters\n",
    "outResolution = 50                          # resolution of the output product in meters\n",
    "lsMask = True                              # layover/shadow mask generation (Boolean)\n",
    "spkFlt = False                               # speckle filtering (Boolean)\n",
    "\n",
    "# 3 different output product type are available \n",
    "#  - RTC: radiometrically corrected for slope\n",
    "#  - GTCgamma: geometrically terrain corrected and compensated for ellipsoid curvature\n",
    "#  - GTCsigma: geometrically terrain corrected\n",
    "outPrdType = 'GTCgamma'\n",
    "\n",
    "# timeseries options\n",
    "Timeseries = True\n",
    "mtSpkFlt = True\n",
    "toDB = True\n",
    "dType = 'float32'\n",
    "\n",
    "# timescan option\n",
    "Timescan = True\n",
    "metrics = [\"avg\", \"max\", \"min\", \"std\", \"cov\" ]\n",
    "toPower = True\n",
    "rescale = True\n",
    "outRem = True\n",
    "\n",
    "procParam = grdBatch.createProcParamDict(outResolution, lsMask, spkFlt, outPrdType,\n",
    "                                         mtSpkFlt, metrics, toDB, dType, \n",
    "                                         toPower, rescale, outRem)"
   ]
  },
  {
   "cell_type": "markdown",
   "metadata": {},
   "source": [
    "### 4) load refined data inventory file into a dataframe and visualize"
   ]
  },
  {
   "cell_type": "code",
   "execution_count": null,
   "metadata": {},
   "outputs": [],
   "source": [
    "%matplotlib inline\n",
    "\n",
    "# choose the orbit and pol info with most msoaics based (this comes from the data inventory)\n",
    "mosaicKey = 'ASCENDING_VVVH'\n",
    "invFile = glob.glob('{}/*_{}.shp'.format(invDir, mosaicKey))[0]\n",
    "fpDataFrame = refine.readS1Inventory(invFile) # function to convert the input to GeoDataFrame\n",
    "vec.plotInv(aoi, fpDataFrame)"
   ]
  },
  {
   "cell_type": "markdown",
   "metadata": {},
   "source": [
    "### 5) Single scene processing\n",
    "\n",
    "In the following cell we will trigger the single scene batch processing. The command will process all downloaded data and store it in the process folder under the \"track number\"/\"acquisiton date\". Frames of the same acqusition are merged to a single scene. During processing, intermediate products will be stored in a self-defined tmp folder (see above). This folder should accomodate enough space for the products, that in the case of multiple frames per acquisition can use a considerable amount of disk sapce.\n",
    "    \n",
    "Dependent on the amount of products to process, this can take while. "
   ]
  },
  {
   "cell_type": "code",
   "execution_count": null,
   "metadata": {},
   "outputs": [],
   "source": [
    "grdBatch.grd2ArdBatch(fpDataFrame, dwnDir, prcDir, tmpDir, procParam)\n",
    "print('we can delete the downlaoded data')"
   ]
  },
  {
   "cell_type": "markdown",
   "metadata": {},
   "source": [
    "### 6) Time-series processing\n",
    "\n",
    "In this step the single scenes of each track are stacked, and multi-temporal filtered (if selected).\n",
    "The output will no longer be the dimap SNAP format, but single geotiffs that are accompanied by a vrt file (e.g. Timeseries.VV.vrt) that allows to load the full stack for the respective polarisation. The band numbers inside the vrt stack refer to the numbers, with which the single files are labelled."
   ]
  },
  {
   "cell_type": "code",
   "execution_count": null,
   "metadata": {},
   "outputs": [],
   "source": [
    "grdBatch.ard2Ts(fpDataFrame, prcDir, tmpDir, procParam)\n",
    "print('we can delete the singel TC products')"
   ]
  },
  {
   "cell_type": "markdown",
   "metadata": {},
   "source": [
    "### 7) Create a time-series animation\n",
    "\n",
    "While it is nice to have an animated image, this also helps to see if the processing went fine up to this stage. \n"
   ]
  },
  {
   "cell_type": "code",
   "execution_count": null,
   "metadata": {},
   "outputs": [],
   "source": [
    "procDict = refine.createProcDict(fpDataFrame)\n",
    "for track, allScenes in procDict.items():\n",
    "\n",
    "    trackDir = '{}/{}/Timeseries'.format(prcDir, track)\n",
    "    outFile = '{}/ts_animation.gif'.format(trackDir)\n",
    "    ts.createTsAnimation(trackDir, tmpDir, outFile, 100)"
   ]
  },
  {
   "cell_type": "markdown",
   "metadata": {},
   "source": [
    "### 8) Create Timescan\n",
    "\n",
    "In this step, each of the time-series (e.g. by track and polarisation) are used to create the multi-temporal statistics referred to as timescans."
   ]
  },
  {
   "cell_type": "code",
   "execution_count": null,
   "metadata": {},
   "outputs": [],
   "source": [
    "if Timescan is True:\n",
    "    grdBatch.ts2Timescan(fpDataFrame, prcDir, procParam)\n",
    "if Timeseries is False:\n",
    "    print('we can delete all timeseries folders')\n",
    "print('only mosaicking is missing')"
   ]
  },
  {
   "cell_type": "markdown",
   "metadata": {},
   "source": [
    "### 9) Mosaicking\n",
    "\n",
    "In this step we mosaic the timescans as well as the time-series (if selected) to seampless mocsiacs for the full Area of interest."
   ]
  },
  {
   "cell_type": "code",
   "execution_count": null,
   "metadata": {},
   "outputs": [],
   "source": [
    "grdBatch.ts2Mosaic(fpDataFrame, prcDir, tmpDir, Timeseries, Timescan)"
   ]
  }
 ],
 "metadata": {
  "kernelspec": {
   "display_name": "Python 3",
   "language": "python",
   "name": "python3"
  },
  "language_info": {
   "codemirror_mode": {
    "name": "ipython",
    "version": 3
   },
   "file_extension": ".py",
   "mimetype": "text/x-python",
   "name": "python",
   "nbconvert_exporter": "python",
   "pygments_lexer": "ipython3",
   "version": "3.6.7"
  }
 },
 "nbformat": 4,
 "nbformat_minor": 2
}
