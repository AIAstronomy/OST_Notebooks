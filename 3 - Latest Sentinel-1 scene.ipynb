{
 "cells": [
  {
   "cell_type": "markdown",
   "metadata": {},
   "source": [
    "<font face=\"Calibri\" size=\"2\"> <i>Open SAR Toolkit - Tutorial 3, version 1.1, November 2019. Andreas Vollrath, ESA/ESRIN phi-lab</i>\n",
    "</font>"
   ]
  },
  {
   "cell_type": "markdown",
   "metadata": {},
   "source": [
    "![title](auxiliary/header_image.PNG)\n",
    "\n",
    "--------\n",
    "\n",
    "# OST Tutorial III\n",
    "## Create latest Sentinel-1 GRD product for a given point\n",
    "\n",
    "--------\n",
    "\n",
    "**Short description**\n",
    "\n",
    "This notebook show the interaction between the *Sentinel1* class for data inventory and download, and the *Sentinel1_Scene* class, together, for the generation of the latest Sentinel-1 product over a given point coordinate. \n",
    "\n",
    "--------\n",
    "\n",
    "**Requirements**\n",
    "\n",
    "- a PC/Mac with at least 16GB of RAM\n",
    "- about 4GB of free disk space\n",
    "- a Copernicus Open Data Hub user account, valid for at least 7 days (https://scihub.copernicus.eu)\n",
    "--------\n",
    "\n",
    "**NOTE:** all cells that have an * after its number can be executed without changing any code. "
   ]
  },
  {
   "cell_type": "markdown",
   "metadata": {},
   "source": [
    "### 1* - Import python libraries necessary for processing"
   ]
  },
  {
   "cell_type": "code",
   "execution_count": null,
   "metadata": {},
   "outputs": [],
   "source": [
    "# this is for the path handling and especially useful if you are on Windows\n",
    "import os\n",
    "from os.path import join\n",
    "from pprint import pprint\n",
    "\n",
    "# we will need this for our time of period definition\n",
    "from datetime import datetime, timedelta\n",
    "\n",
    "# this is the s1Project class, that basically handles all the workflow from beginning to the end\n",
    "from ost import Sentinel1, Sentinel1_Scene"
   ]
  },
  {
   "cell_type": "markdown",
   "metadata": {},
   "source": [
    "### 2 - Data selection parameters\n",
    "\n",
    "**NOTE:** At this point all you want to change is the lat and lon values in line 6.\n",
    "\n",
    "\n",
    "In order to define the data you want to process you need to define 2 basic settings. \n",
    "\n",
    "**1 Area of Interest:** \n",
    "\n",
    "In our case we only look for a *specific spot on earth*, that is defined by the *Latitude* and *Longitude*. \n",
    "\n",
    "**2 Time of Interest:**\n",
    "\n",
    "The time of interest is usually defined by a *start* and *end* date. The format should be conform with 'YYYY-MM-DD'. If none of the two parameters are defined, both parameters will use default values, which is the *2014-10-01* for *start*, and *today* for the end of the TOI.\n",
    "\n",
    "In our example here, the datetime class is used to set the start date to 30 days before today to assure we get any scene within our time of interest.\n",
    "\n",
    "**3 Project directory**\n",
    "\n",
    "OST bases usually on a certain directory hierarchy that includes download, inventory and processing. Even though we just want to process a single scene, it is more handy to split these parts for this given example. \n",
    "\n"
   ]
  },
  {
   "cell_type": "code",
   "execution_count": null,
   "metadata": {},
   "outputs": [],
   "source": [
    "#----------------------------\n",
    "# Area of interest\n",
    "#----------------------------\n",
    "\n",
    "# Here we can either point to a shapefile or as well use \n",
    "lat, lon = 41.8919, 12.5113\n",
    "aoi = 'POINT ({} {})'.format(lon, lat)\n",
    "\n",
    "#----------------------------\n",
    "# Time of interest\n",
    "#----------------------------\n",
    "# we set only the start date to today - 30 days\n",
    "start = (datetime.today() - timedelta(days=30)).strftime(\"%Y-%m-%d\")\n",
    "\n",
    "#----------------------------\n",
    "# Processing directory\n",
    "#----------------------------\n",
    "# get home folder\n",
    "home = os.getenv('HOME')\n",
    "# create a processing directory\n",
    "project_dir = join(home, 'OpenSarToolkit', 'Tutorial_3')\n",
    "\n",
    "#------------------------------\n",
    "# Print out AOI and start date\n",
    "#------------------------------\n",
    "print('AOI: ' + aoi, )\n",
    "print('TOI start: ' + start)"
   ]
  },
  {
   "cell_type": "markdown",
   "metadata": {},
   "source": [
    "### 3* - Initialize the Sentinel1 project class"
   ]
  },
  {
   "cell_type": "code",
   "execution_count": null,
   "metadata": {},
   "outputs": [],
   "source": [
    "#---------------------------------------------------\n",
    "# for plotting purposes we use this iPython magic\n",
    "%matplotlib inline\n",
    "%pylab inline\n",
    "pylab.rcParams['figure.figsize'] = (19, 19)\n",
    "#---------------------------------------------------\n",
    "\n",
    "# create s1Project class instance\n",
    "s1_project = Sentinel1(\n",
    "    project_dir=project_dir, \n",
    "    aoi=aoi, \n",
    "    start=start,\n",
    "    product_type='GRD'\n",
    ")\n",
    "\n",
    "# search command\n",
    "s1_project.search()\n",
    "\n",
    "print('We found {} products.'.format(len(s1_project.inventory.identifier.unique())))\n",
    "# combine OST class attribute with pandas head command to print out the first 5 rows of the \n",
    "print(s1_project.inventory.head(5))\n",
    "\n",
    "# we plot the full Inventory on a map\n",
    "s1_project.plot_inventory(transperancy=.1)"
   ]
  },
  {
   "cell_type": "markdown",
   "metadata": {},
   "source": [
    "### 4* - Select the latest scene found during the search\n",
    "\n",
    "Here we use some python-panda syntax to filter out the latest scene. If you do not understand what's going on, don't worry. It should just show how "
   ]
  },
  {
   "cell_type": "code",
   "execution_count": null,
   "metadata": {},
   "outputs": [],
   "source": [
    "pylab.rcParams['figure.figsize'] = (13, 13)\n",
    "\n",
    "# we give our inventory a shorter name iDf (for inventory Dataframe)\n",
    "iDf = s1_project.inventory.copy()\n",
    "\n",
    "# we select the latest scene based on the metadata entry endposition\n",
    "latestDf = iDf[iDf.endposition == iDf.endposition.max()]\n",
    "\n",
    "# we print out a little info on the date of the  \n",
    "print(' INFO: Latest scene found for {}'.format(latestDf['acquisitiondate'].values[0]))\n",
    "\n",
    "# we use the plotInventory method in combination with the newly\n",
    "# created Geodataframe to see our scene footprint\n",
    "s1_project.plot_inventory(latestDf, transperancy=.5)"
   ]
  },
  {
   "cell_type": "markdown",
   "metadata": {},
   "source": [
    "### 7* Download scene\n",
    "\n",
    "We use the build-in download method from the *Sentinel1* class. You can pass any Geodataframe generated by OST, and filtered by you (e.g. sort out rows that you d not need). In our case we are only interested in the latest scene, so we pass the newly generated *latestDf* Geodataframe object.'"
   ]
  },
  {
   "cell_type": "code",
   "execution_count": null,
   "metadata": {},
   "outputs": [],
   "source": [
    "s1_project.download(latestDf)"
   ]
  },
  {
   "cell_type": "markdown",
   "metadata": {},
   "source": [
    "### 8* - Display some metadata of the latest scene\n",
    "\n",
    "After use of the *Sentinel1* class for the finding and downloading the latest scene, we hand the scene identifier over to the *Sentinel1_Scene* class for further processing. \n",
    "\n",
    "**Note** that the *Sentinel1_Scene* class only supports GRD data."
   ]
  },
  {
   "cell_type": "code",
   "execution_count": null,
   "metadata": {},
   "outputs": [],
   "source": [
    "# create a S1Scene class instance based on the scene identifier coming from our \"latest scene dataframe\"\n",
    "latestScene = Sentinel1_Scene(latestDf['identifier'].values[0])\n",
    "\n",
    "# print summarising infos\n",
    "latestScene.info()\n",
    "\n",
    "# print file location\n",
    "fileLocation = latestScene.get_path(s1_project.download_dir)\n",
    "\n",
    "print(' File is located at: ')\n",
    "print(' ' + fileLocation)"
   ]
  },
  {
   "cell_type": "markdown",
   "metadata": {},
   "source": [
    "### 9* - Produce an ARD product\n",
    "\n",
    "Our *Sentinel1_Scene* class comes with the build-in method *create_ard* to produce a standardised ARD product. We just have to provide: \n",
    "- the high-level download directory (that we can get from our *s1Project* class instance)\n",
    "- a directory where the outputfiles will be written \n",
    "- a filename prefix (the output format will be the standard SNAP Dimap format, consisting of the dim-file and the data directory)\n",
    "- and a directory for storing temporary files\n",
    "\n",
    "It seems a bit messy to mix up both classes. In later tutorials it will become clear why this distinction actually makes sense for effective bulk processing."
   ]
  },
  {
   "cell_type": "code",
   "execution_count": null,
   "metadata": {},
   "outputs": [],
   "source": [
    "latestScene.get_ard_parameters('OST Standard')\n",
    "latestScene.ard_parameters['single ARD']['resolution'] = 50\n",
    "pprint(latestScene.ard_parameters)\n",
    "\n",
    "latestScene.create_ard(infile = latestScene.get_path(download_dir=s1_project.download_dir), # we see our download path can be automatically generated by providing the Project's download directory...wohooo\n",
    "                       out_dir = s1_project.processing_dir,   \n",
    "                       out_prefix = latestScene.start_date,   # we take the acquisitiondate as filename for our output\n",
    "                       temp_dir = s1_project.temp_dir)\n",
    "\n",
    "print(' The path to our newly created ARD product can be obtained the following way:')\n",
    "latestScene.ard_dimap\n"
   ]
  },
  {
   "cell_type": "markdown",
   "metadata": {},
   "source": [
    "### 10* - Create a RGB color composite\n",
    "\n",
    "Sentinel-1 scenes usually consist of two polarisation bands. In order to create a 3 channel RGB composite a ratio between the Co- (VV or HH) and the Cross-polarised (VH or HV) band is added. The *create_rgb* method takes the *ard_dimap* file and converts it to a 3-channel GeoTiff."
   ]
  },
  {
   "cell_type": "code",
   "execution_count": null,
   "metadata": {},
   "outputs": [],
   "source": [
    "latestScene.create_rgb(outfile = opj(s1_project.processing_dir, '{}.tif'.format(latestScene.start_date)))\n",
    "\n",
    "print(' The path to our newly created RGB product can be obtained the follwing way:')\n",
    "latestScene.ard_rgb"
   ]
  },
  {
   "cell_type": "markdown",
   "metadata": {},
   "source": [
    "### 11 - Visualise the RGB composite\n",
    "\n",
    "We can plot the newly created RGB image with the *visualise_rgb* method. A *shrink_factor* is added, which reduces resolution in favour of memory requirements for plotting."
   ]
  },
  {
   "cell_type": "code",
   "execution_count": null,
   "metadata": {},
   "outputs": [],
   "source": [
    "latestScene.visualise_rgb(shrink_factor=5)"
   ]
  },
  {
   "cell_type": "markdown",
   "metadata": {},
   "source": [
    "### 12 - Create thumbnail image\n",
    "\n",
    "For some it might be interesting to create a small thumbnail image in Jpeg format. The *createThumbnail* method allows for this. "
   ]
  },
  {
   "cell_type": "code",
   "execution_count": null,
   "metadata": {},
   "outputs": [],
   "source": [
    "tn_image = opj(s1_project.processing_dir, '{}.TN.jpg'.format(latestScene.start_date))\n",
    "latestScene.create_rgb_thumbnail(outfile = tn_image)"
   ]
  },
  {
   "cell_type": "code",
   "execution_count": null,
   "metadata": {},
   "outputs": [],
   "source": [
    "import imageio\n",
    "img = imageio.imread(tn_image)\n",
    "!ls -sh {tn_image}\n",
    "plt.imshow(img)"
   ]
  }
 ],
 "metadata": {
  "kernelspec": {
   "display_name": "Python 3",
   "language": "python",
   "name": "python3"
  },
  "language_info": {
   "codemirror_mode": {
    "name": "ipython",
    "version": 3
   },
   "file_extension": ".py",
   "mimetype": "text/x-python",
   "name": "python",
   "nbconvert_exporter": "python",
   "pygments_lexer": "ipython3",
   "version": "3.6.8"
  }
 },
 "nbformat": 4,
 "nbformat_minor": 4
}
